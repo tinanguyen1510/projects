{
 "cells": [
  {
   "cell_type": "code",
   "execution_count": 27,
   "metadata": {},
   "outputs": [],
   "source": [
    "import datetime\n",
    "import pandas as pd\n",
    "import numpy as np\n",
    "import matplotlib.pyplot as plt\n",
    "from pylab import rcParams\n",
    "import glob\n",
    "from datetime import timedelta, date\n",
    "\n",
    "# import tweepy\n",
    "# import jsonpickle\n",
    "import json\n",
    "import re\n",
    "import string\n",
    "import nltk\n",
    "\n",
    "from collections import Counter\n",
    "from nltk.corpus import stopwords\n",
    "from nltk.stem.wordnet import WordNetLemmatizer\n",
    "from nltk.tokenize import TweetTokenizer\n",
    "\n",
    "from nltk.stem import WordNetLemmatizer, SnowballStemmer\n",
    "from nltk.stem.porter import *\n",
    "from sklearn.feature_extraction.text import TfidfVectorizer\n",
    "from sklearn.feature_extraction.text import CountVectorizer\n",
    "from sklearn.decomposition import TruncatedSVD\n",
    "#import en_core_web_sm\n",
    "# import spacy\n",
    "# from spacy import displacy\n",
    "# from collections import Counter\n",
    "# from nltk.stem import WordNetLemmatizer\n",
    "wordnet_lemmatizer = WordNetLemmatizer()\n",
    "# import en_core_web_sm\n",
    "# nlp = en_core_web_sm.load()\n",
    "porter_stemmer = PorterStemmer()\n",
    "rcParams['figure.figsize'] = 10,6"
   ]
  },
  {
   "cell_type": "markdown",
   "metadata": {},
   "source": [
    "# I. Twitter Data"
   ]
  },
  {
   "cell_type": "code",
   "execution_count": 29,
   "metadata": {},
   "outputs": [],
   "source": [
    "read_files = glob.glob(\"*.json\")\n",
    "tweets_data = []\n",
    "\n",
    "for f in read_files:\n",
    "    with open(f, \"r\") as infile:\n",
    "        for line in infile:\n",
    "            tweets_data.append(json.loads(line))\n",
    "            \n",
    "\n",
    "# with open(\"merged_file.json\", \"w\") as outfile:\n",
    "#     json.dump(tweets_data, outfile)"
   ]
  },
  {
   "cell_type": "code",
   "execution_count": 30,
   "metadata": {},
   "outputs": [
    {
     "data": {
      "text/html": [
       "<div>\n",
       "<style scoped>\n",
       "    .dataframe tbody tr th:only-of-type {\n",
       "        vertical-align: middle;\n",
       "    }\n",
       "\n",
       "    .dataframe tbody tr th {\n",
       "        vertical-align: top;\n",
       "    }\n",
       "\n",
       "    .dataframe thead th {\n",
       "        text-align: right;\n",
       "    }\n",
       "</style>\n",
       "<table border=\"1\" class=\"dataframe\">\n",
       "  <thead>\n",
       "    <tr style=\"text-align: right;\">\n",
       "      <th></th>\n",
       "      <th>text</th>\n",
       "      <th>created_at</th>\n",
       "      <th>screen_name</th>\n",
       "    </tr>\n",
       "  </thead>\n",
       "  <tbody>\n",
       "    <tr>\n",
       "      <th>0</th>\n",
       "      <td>Fox5DC: Boy hospitalized after early morning s...</td>\n",
       "      <td>2018-03-30 17:51:00</td>\n",
       "      <td>CrimeDC</td>\n",
       "    </tr>\n",
       "    <tr>\n",
       "      <th>1</th>\n",
       "      <td>Fox5DC: Police: Teen arrested for sexually ass...</td>\n",
       "      <td>2018-03-28 21:31:00</td>\n",
       "      <td>CrimeDC</td>\n",
       "    </tr>\n",
       "    <tr>\n",
       "      <th>2</th>\n",
       "      <td>Washington Post: Federal prosecutors dismiss a...</td>\n",
       "      <td>2018-03-23 19:34:00</td>\n",
       "      <td>CrimeDC</td>\n",
       "    </tr>\n",
       "    <tr>\n",
       "      <th>3</th>\n",
       "      <td>WUSA: 9 homicides in Ward 8 in March alone htt...</td>\n",
       "      <td>2018-03-23 18:21:00</td>\n",
       "      <td>CrimeDC</td>\n",
       "    </tr>\n",
       "    <tr>\n",
       "      <th>4</th>\n",
       "      <td>WJLA: Police: Man dead after shooting in South...</td>\n",
       "      <td>2018-03-22 15:51:00</td>\n",
       "      <td>CrimeDC</td>\n",
       "    </tr>\n",
       "  </tbody>\n",
       "</table>\n",
       "</div>"
      ],
      "text/plain": [
       "                                                text           created_at  \\\n",
       "0  Fox5DC: Boy hospitalized after early morning s...  2018-03-30 17:51:00   \n",
       "1  Fox5DC: Police: Teen arrested for sexually ass...  2018-03-28 21:31:00   \n",
       "2  Washington Post: Federal prosecutors dismiss a...  2018-03-23 19:34:00   \n",
       "3  WUSA: 9 homicides in Ward 8 in March alone htt...  2018-03-23 18:21:00   \n",
       "4  WJLA: Police: Man dead after shooting in South...  2018-03-22 15:51:00   \n",
       "\n",
       "  screen_name  \n",
       "0     CrimeDC  \n",
       "1     CrimeDC  \n",
       "2     CrimeDC  \n",
       "3     CrimeDC  \n",
       "4     CrimeDC  "
      ]
     },
     "execution_count": 30,
     "metadata": {},
     "output_type": "execute_result"
    }
   ],
   "source": [
    "#create a new dataframe\n",
    "tweets = pd.DataFrame()\n",
    "tweets['text'] = list(map(lambda tweet: tweet['text'], tweets_data))\n",
    "tweets['created_at'] = list(map(lambda tweet: tweet['created_at'], tweets_data))\n",
    "tweets['screen_name'] = list(map(lambda tweet: tweet['screen_name'], tweets_data))\n",
    "tweets.head()"
   ]
  },
  {
   "cell_type": "code",
   "execution_count": 31,
   "metadata": {
    "scrolled": true
   },
   "outputs": [
    {
     "name": "stdout",
     "output_type": "stream",
     "text": [
      "Total of tweets:  8899\n",
      "Total of tweets after dropping duplicates:  1327\n"
     ]
    }
   ],
   "source": [
    "print('Total of tweets: ',tweets.shape[0])\n",
    "\n",
    "tweets.drop_duplicates(inplace=True)\n",
    "print('Total of tweets after dropping duplicates: ',tweets.shape[0])"
   ]
  },
  {
   "cell_type": "markdown",
   "metadata": {},
   "source": [
    "## 1) EDA"
   ]
  },
  {
   "cell_type": "code",
   "execution_count": 32,
   "metadata": {},
   "outputs": [
    {
     "data": {
      "text/html": [
       "<div>\n",
       "<style scoped>\n",
       "    .dataframe tbody tr th:only-of-type {\n",
       "        vertical-align: middle;\n",
       "    }\n",
       "\n",
       "    .dataframe tbody tr th {\n",
       "        vertical-align: top;\n",
       "    }\n",
       "\n",
       "    .dataframe thead th {\n",
       "        text-align: right;\n",
       "    }\n",
       "</style>\n",
       "<table border=\"1\" class=\"dataframe\">\n",
       "  <thead>\n",
       "    <tr style=\"text-align: right;\">\n",
       "      <th></th>\n",
       "      <th>text</th>\n",
       "      <th>created_at</th>\n",
       "      <th>screen_name</th>\n",
       "      <th>date</th>\n",
       "      <th>time</th>\n",
       "      <th>weekday</th>\n",
       "      <th>hour</th>\n",
       "    </tr>\n",
       "  </thead>\n",
       "  <tbody>\n",
       "    <tr>\n",
       "      <th>0</th>\n",
       "      <td>Fox5DC: Boy hospitalized after early morning s...</td>\n",
       "      <td>2018-03-30 17:51:00</td>\n",
       "      <td>CrimeDC</td>\n",
       "      <td>2018-03-30</td>\n",
       "      <td>17:51:00</td>\n",
       "      <td>Fri</td>\n",
       "      <td>17</td>\n",
       "    </tr>\n",
       "    <tr>\n",
       "      <th>1</th>\n",
       "      <td>Fox5DC: Police: Teen arrested for sexually ass...</td>\n",
       "      <td>2018-03-28 21:31:00</td>\n",
       "      <td>CrimeDC</td>\n",
       "      <td>2018-03-28</td>\n",
       "      <td>21:31:00</td>\n",
       "      <td>Wed</td>\n",
       "      <td>21</td>\n",
       "    </tr>\n",
       "    <tr>\n",
       "      <th>2</th>\n",
       "      <td>Washington Post: Federal prosecutors dismiss a...</td>\n",
       "      <td>2018-03-23 19:34:00</td>\n",
       "      <td>CrimeDC</td>\n",
       "      <td>2018-03-23</td>\n",
       "      <td>19:34:00</td>\n",
       "      <td>Fri</td>\n",
       "      <td>19</td>\n",
       "    </tr>\n",
       "    <tr>\n",
       "      <th>3</th>\n",
       "      <td>WUSA: 9 homicides in Ward 8 in March alone htt...</td>\n",
       "      <td>2018-03-23 18:21:00</td>\n",
       "      <td>CrimeDC</td>\n",
       "      <td>2018-03-23</td>\n",
       "      <td>18:21:00</td>\n",
       "      <td>Fri</td>\n",
       "      <td>18</td>\n",
       "    </tr>\n",
       "    <tr>\n",
       "      <th>4</th>\n",
       "      <td>WJLA: Police: Man dead after shooting in South...</td>\n",
       "      <td>2018-03-22 15:51:00</td>\n",
       "      <td>CrimeDC</td>\n",
       "      <td>2018-03-22</td>\n",
       "      <td>15:51:00</td>\n",
       "      <td>Thu</td>\n",
       "      <td>15</td>\n",
       "    </tr>\n",
       "  </tbody>\n",
       "</table>\n",
       "</div>"
      ],
      "text/plain": [
       "                                                text           created_at  \\\n",
       "0  Fox5DC: Boy hospitalized after early morning s...  2018-03-30 17:51:00   \n",
       "1  Fox5DC: Police: Teen arrested for sexually ass...  2018-03-28 21:31:00   \n",
       "2  Washington Post: Federal prosecutors dismiss a...  2018-03-23 19:34:00   \n",
       "3  WUSA: 9 homicides in Ward 8 in March alone htt...  2018-03-23 18:21:00   \n",
       "4  WJLA: Police: Man dead after shooting in South...  2018-03-22 15:51:00   \n",
       "\n",
       "  screen_name        date      time weekday hour  \n",
       "0     CrimeDC  2018-03-30  17:51:00     Fri   17  \n",
       "1     CrimeDC  2018-03-28  21:31:00     Wed   21  \n",
       "2     CrimeDC  2018-03-23  19:34:00     Fri   19  \n",
       "3     CrimeDC  2018-03-23  18:21:00     Fri   18  \n",
       "4     CrimeDC  2018-03-22  15:51:00     Thu   15  "
      ]
     },
     "execution_count": 32,
     "metadata": {},
     "output_type": "execute_result"
    }
   ],
   "source": [
    "#tweets['text'] = tweets['text'].str.split(\"http\").str[0]\n",
    "new=tweets['created_at'].str.split(\" \",expand=True)\n",
    "tweets['date']=new[0]\n",
    "tweets['time']=new[1]\n",
    "tweets['weekday']=tweets['date'].apply(lambda x: datetime.datetime.strptime(x, '%Y-%m-%d').strftime('%a'))\n",
    "tweets['hour']=tweets['time'].str.split(\":\").str[0]\n",
    "# tweets['d']=tweets['date'].apply(lambda x: x.split(\"-\")[0])\n",
    "# tweets = tweets[tweets['d']=='2019']\n",
    "# tweets.drop(['d'],axis=1,inplace=True)\n",
    "tweets.head()"
   ]
  },
  {
   "cell_type": "code",
   "execution_count": 33,
   "metadata": {},
   "outputs": [
    {
     "data": {
      "image/png": "[encoded data removed]",
      "text/plain": [
       "<Figure size 720x432 with 1 Axes>"
      ]
     },
     "metadata": {},
     "output_type": "display_data"
    }
   ],
   "source": [
    "screen_name = pd.DataFrame(tweets.groupby('screen_name')['text'].count()).reset_index()\n",
    "screen_name.sort_values(by='text',ascending=False, inplace=True)\n",
    "plt.bar(screen_name['screen_name'],screen_name['text'],color='green')\n",
    "plt.title('Tweets distribution by screen name')\n",
    "plt.show()"
   ]
  },
  {
   "cell_type": "code",
   "execution_count": 34,
   "metadata": {
    "scrolled": true
   },
   "outputs": [
    {
     "data": {
      "image/png": "[encoded data removed]",
      "text/plain": [
       "<Figure size 720x432 with 1 Axes>"
      ]
     },
     "metadata": {},
     "output_type": "display_data"
    }
   ],
   "source": [
    "weekday = pd.DataFrame(tweets.groupby('weekday')['text'].count()).reset_index()\n",
    "weekday = weekday.sort_values(by='text')\n",
    "# plt.figure(figsize=(8,5))\n",
    "plt.barh(weekday['weekday'],weekday['text'],color='orange')\n",
    "plt.title('Tweets distribution by weekdays')\n",
    "plt.show()\n"
   ]
  },
  {
   "cell_type": "code",
   "execution_count": 37,
   "metadata": {},
   "outputs": [
    {
     "data": {
      "image/png": "[encoded data removed]",
      "text/plain": [
       "<Figure size 720x432 with 1 Axes>"
      ]
     },
     "metadata": {},
     "output_type": "display_data"
    }
   ],
   "source": [
    "time = pd.DataFrame(tweets.groupby(['hour'])['text'].count())\n",
    "plt.plot(time)\n",
    "plt.title('Tweets posted by time of the day')\n",
    "plt.show()"
   ]
  },
  {
   "cell_type": "code",
   "execution_count": 38,
   "metadata": {},
   "outputs": [
    {
     "data": {
      "image/png": "[encoded data removed]",
      "text/plain": [
       "<Figure size 720x432 with 1 Axes>"
      ]
     },
     "metadata": {},
     "output_type": "display_data"
    }
   ],
   "source": [
    "tweets['daytime'] = tweets['weekday']+tweets['hour']\n",
    "\n",
    "daytime = pd.DataFrame(tweets.groupby(['daytime'])['text'].count())\n",
    "daytime.sort_values(by='text',ascending=False,inplace=True)\n",
    "plt.plot(daytime[:10])\n",
    "plt.title('Days of the week and times')\n",
    "plt.show()\n",
    "\n",
    "tweets.drop(['weekday','daytime'],axis=1,inplace=True)"
   ]
  },
  {
   "cell_type": "markdown",
   "metadata": {},
   "source": [
    "## 2) Text-preprocessing"
   ]
  },
  {
   "cell_type": "code",
   "execution_count": 44,
   "metadata": {},
   "outputs": [
    {
     "data": {
      "image/png": "[encoded data removed]",
      "text/plain": [
       "<Figure size 1080x576 with 1 Axes>"
      ]
     },
     "metadata": {},
     "output_type": "display_data"
    }
   ],
   "source": [
    "#the most common words\n",
    "all_words = []\n",
    "for line in list(tweets['text']):\n",
    "    words = line.split()\n",
    "    for word in words:\n",
    "        all_words.append(word.lower())\n",
    "    \n",
    "    \n",
    "labels, values = zip(*Counter(all_words).most_common(10))\n",
    "indexes = np.arange(len(labels))\n",
    "plt.figure(figsize=(15,8))\n",
    "plt.bar(indexes, values,color='orange')\n",
    "plt.xticks(indexes , labels,fontsize=14)\n",
    "plt.yticks(fontsize=14)\n",
    "plt.ylabel('count',fontsize=16)\n",
    "plt.xlabel('word',fontsize=16)\n",
    "plt.title('Most common words before pre-processing',fontsize=16)\n",
    "plt.show()"
   ]
  },
  {
   "cell_type": "code",
   "execution_count": 45,
   "metadata": {},
   "outputs": [
    {
     "data": {
      "text/plain": [
       "0    foxdc boy hospitalized after early morning sho...\n",
       "1    foxdc police teen arrested for sexually assaul...\n",
       "2      federal prosecutors dismiss assault charges ...\n",
       "3                          homicides ward march alone \n",
       "4            police man dead after shooting southeast \n",
       "Name: cleaned, dtype: object"
      ]
     },
     "execution_count": 45,
     "metadata": {},
     "output_type": "execute_result"
    }
   ],
   "source": [
    "def cleanText(tweet):\n",
    "    #remove links\n",
    "    tweet = re.sub(r'https?://[A-Za-z0-9./]+',' ',tweet)\n",
    "    #remove hashtags\n",
    "    tweet = re.sub(r'#\\w*', '', tweet)\n",
    "    #remove @username\n",
    "    tweet = re.sub(r'@[A-Za-z0-9]+','',tweet)\n",
    "    #remove Punctuation   \n",
    "    tweet = re.sub(r'[^\\w\\s]',' ',tweet)\n",
    "     #remove words like 1st, 2nd\n",
    "    tweet = re.sub(r'\\d+[st|nd|rd|th]?','',tweet)\n",
    "    #remove words with 2 or fewer letters\n",
    "    tweet = re.sub(r'\\b\\w{1,2}\\b', '', tweet)\n",
    "    #remove number\n",
    "    tweet = re.sub(r'\\d+', '', tweet)\n",
    "    # Remove whitespace (including new line characters)\n",
    "    tweet = re.sub(r'\\s\\s+', ' ', tweet)\n",
    "    # Remove single space remaining at the front of the tweet.\n",
    "    tweet = tweet.lstrip(' ') \n",
    "    # To lowercase\n",
    "    tweet = tweet.lower()\n",
    "    # Remove characters beyond Basic Multilingual Plane (BMP) of Unicode:\n",
    "    tweet = ''.join(c for c in tweet if c <= '\\uFFFF') \n",
    "        # Remove whitespace (including new line characters)\n",
    "    tweet = re.sub(r'\\foxdc', ' ', tweet)\n",
    "    tweet = re.sub(r'\\washington post', ' ', tweet)\n",
    "    tweet = re.sub(r'\\wusa', ' ', tweet)\n",
    "    tweet = re.sub(r'\\wjla', ' ', tweet)\n",
    "    return tweet\n",
    "\n",
    "# apply to text column\n",
    "tweets['cleaned'] = tweets['text'].apply(cleanText)\n",
    "tweets['cleaned'].head()"
   ]
  },
  {
   "cell_type": "code",
   "execution_count": 46,
   "metadata": {},
   "outputs": [
    {
     "data": {
      "text/html": [
       "<div>\n",
       "<style scoped>\n",
       "    .dataframe tbody tr th:only-of-type {\n",
       "        vertical-align: middle;\n",
       "    }\n",
       "\n",
       "    .dataframe tbody tr th {\n",
       "        vertical-align: top;\n",
       "    }\n",
       "\n",
       "    .dataframe thead th {\n",
       "        text-align: right;\n",
       "    }\n",
       "</style>\n",
       "<table border=\"1\" class=\"dataframe\">\n",
       "  <thead>\n",
       "    <tr style=\"text-align: right;\">\n",
       "      <th></th>\n",
       "      <th>text</th>\n",
       "      <th>created_at</th>\n",
       "      <th>screen_name</th>\n",
       "      <th>date</th>\n",
       "      <th>time</th>\n",
       "      <th>hour</th>\n",
       "      <th>cleaned</th>\n",
       "      <th>tokens</th>\n",
       "      <th>tokenafter</th>\n",
       "    </tr>\n",
       "  </thead>\n",
       "  <tbody>\n",
       "    <tr>\n",
       "      <th>0</th>\n",
       "      <td>Fox5DC: Boy hospitalized after early morning s...</td>\n",
       "      <td>2018-03-30 17:51:00</td>\n",
       "      <td>CrimeDC</td>\n",
       "      <td>2018-03-30</td>\n",
       "      <td>17:51:00</td>\n",
       "      <td>17</td>\n",
       "      <td>foxdc boy hospitalized after early morning sho...</td>\n",
       "      <td>[foxdc, boy, hospit, earli, morn, shoot, north...</td>\n",
       "      <td>foxdc boy hospit earli morn shoot northwest</td>\n",
       "    </tr>\n",
       "    <tr>\n",
       "      <th>1</th>\n",
       "      <td>Fox5DC: Police: Teen arrested for sexually ass...</td>\n",
       "      <td>2018-03-28 21:31:00</td>\n",
       "      <td>CrimeDC</td>\n",
       "      <td>2018-03-28</td>\n",
       "      <td>21:31:00</td>\n",
       "      <td>21</td>\n",
       "      <td>foxdc police teen arrested for sexually assaul...</td>\n",
       "      <td>[foxdc, polic, teen, arrest, sexual, assault, ...</td>\n",
       "      <td>foxdc polic teen arrest sexual assault woman f...</td>\n",
       "    </tr>\n",
       "    <tr>\n",
       "      <th>2</th>\n",
       "      <td>Washington Post: Federal prosecutors dismiss a...</td>\n",
       "      <td>2018-03-23 19:34:00</td>\n",
       "      <td>CrimeDC</td>\n",
       "      <td>2018-03-23</td>\n",
       "      <td>19:34:00</td>\n",
       "      <td>19</td>\n",
       "      <td>federal prosecutors dismiss assault charges ...</td>\n",
       "      <td>[feder, prosecutor, dismiss, assault, charg, t...</td>\n",
       "      <td>feder prosecutor dismiss assault charg turkish...</td>\n",
       "    </tr>\n",
       "    <tr>\n",
       "      <th>3</th>\n",
       "      <td>WUSA: 9 homicides in Ward 8 in March alone htt...</td>\n",
       "      <td>2018-03-23 18:21:00</td>\n",
       "      <td>CrimeDC</td>\n",
       "      <td>2018-03-23</td>\n",
       "      <td>18:21:00</td>\n",
       "      <td>18</td>\n",
       "      <td>homicides ward march alone</td>\n",
       "      <td>[homicid, ward, march, alon]</td>\n",
       "      <td>homicid ward march alon</td>\n",
       "    </tr>\n",
       "    <tr>\n",
       "      <th>4</th>\n",
       "      <td>WJLA: Police: Man dead after shooting in South...</td>\n",
       "      <td>2018-03-22 15:51:00</td>\n",
       "      <td>CrimeDC</td>\n",
       "      <td>2018-03-22</td>\n",
       "      <td>15:51:00</td>\n",
       "      <td>15</td>\n",
       "      <td>police man dead after shooting southeast</td>\n",
       "      <td>[polic, man, dead, shoot, southeast]</td>\n",
       "      <td>polic man dead shoot southeast</td>\n",
       "    </tr>\n",
       "  </tbody>\n",
       "</table>\n",
       "</div>"
      ],
      "text/plain": [
       "                                                text           created_at  \\\n",
       "0  Fox5DC: Boy hospitalized after early morning s...  2018-03-30 17:51:00   \n",
       "1  Fox5DC: Police: Teen arrested for sexually ass...  2018-03-28 21:31:00   \n",
       "2  Washington Post: Federal prosecutors dismiss a...  2018-03-23 19:34:00   \n",
       "3  WUSA: 9 homicides in Ward 8 in March alone htt...  2018-03-23 18:21:00   \n",
       "4  WJLA: Police: Man dead after shooting in South...  2018-03-22 15:51:00   \n",
       "\n",
       "  screen_name        date      time hour  \\\n",
       "0     CrimeDC  2018-03-30  17:51:00   17   \n",
       "1     CrimeDC  2018-03-28  21:31:00   21   \n",
       "2     CrimeDC  2018-03-23  19:34:00   19   \n",
       "3     CrimeDC  2018-03-23  18:21:00   18   \n",
       "4     CrimeDC  2018-03-22  15:51:00   15   \n",
       "\n",
       "                                             cleaned  \\\n",
       "0  foxdc boy hospitalized after early morning sho...   \n",
       "1  foxdc police teen arrested for sexually assaul...   \n",
       "2    federal prosecutors dismiss assault charges ...   \n",
       "3                        homicides ward march alone    \n",
       "4          police man dead after shooting southeast    \n",
       "\n",
       "                                              tokens  \\\n",
       "0  [foxdc, boy, hospit, earli, morn, shoot, north...   \n",
       "1  [foxdc, polic, teen, arrest, sexual, assault, ...   \n",
       "2  [feder, prosecutor, dismiss, assault, charg, t...   \n",
       "3                       [homicid, ward, march, alon]   \n",
       "4               [polic, man, dead, shoot, southeast]   \n",
       "\n",
       "                                          tokenafter  \n",
       "0        foxdc boy hospit earli morn shoot northwest  \n",
       "1  foxdc polic teen arrest sexual assault woman f...  \n",
       "2  feder prosecutor dismiss assault charg turkish...  \n",
       "3                            homicid ward march alon  \n",
       "4                     polic man dead shoot southeast  "
      ]
     },
     "execution_count": 46,
     "metadata": {},
     "output_type": "execute_result"
    }
   ],
   "source": [
    "#remove stop words\n",
    "stop_words = stopwords.words('english')\n",
    "# tokenize helper function\n",
    "def processText(tweet):\n",
    "\n",
    "    sent = nltk.word_tokenize(tweet)\n",
    "#     tagged_sentence = nltk.tag.pos_tag(sent)\n",
    "    #print(tagged_sentence)\n",
    "#     edited_sentence = [word for word,tag in tagged_sentence if tag != 'NN' and tag != 'NNS']\n",
    "    #print(edited_sentence)\n",
    "    #remove any stopwords\n",
    "    nostopword = [word for word in sent if word not in stopwords.words('english')]\n",
    "    #stemming\n",
    "    stemmed_words = [porter_stemmer.stem(word) for word in nostopword]\n",
    "#     lemmatized_token = [wordnet_lemmatizer.lemmatize(word) for word in stemmed_words]\n",
    "    return stemmed_words\n",
    "\n",
    "# apply to column\n",
    "tweets['tokens'] = tweets['cleaned'].apply(processText)\n",
    "tweets.head()"
   ]
  },
  {
   "cell_type": "code",
   "execution_count": 47,
   "metadata": {},
   "outputs": [
    {
     "data": {
      "image/png": "[encoded data removed]",
      "text/plain": [
       "<Figure size 1080x576 with 1 Axes>"
      ]
     },
     "metadata": {},
     "output_type": "display_data"
    }
   ],
   "source": [
    "# most common words after clean up and remove stop words\n",
    "all_words = []\n",
    "for ls in tweets['tokens']:\n",
    "    words = [w for w in ls]\n",
    "    for word in words:\n",
    "        all_words.append(word.lower())\n",
    "\n",
    "labels, values = zip(*Counter(all_words).most_common(10))\n",
    "indexes = np.arange(len(labels))\n",
    "plt.figure(figsize=(15,8))\n",
    "plt.bar(indexes, values,color='green')\n",
    "plt.xticks(indexes , labels,fontsize=16)\n",
    "plt.yticks(fontsize=14)\n",
    "plt.title('Most common words after pre-processing',fontsize=16)\n",
    "plt.ylabel('count',fontsize=16)\n",
    "plt.xlabel('word',fontsize=16)\n",
    "plt.show()"
   ]
  },
  {
   "cell_type": "code",
   "execution_count": 48,
   "metadata": {},
   "outputs": [],
   "source": [
    "for i in tweets['tokens']:\n",
    "    temp = ' '.join(i)\n",
    "    tweets['tokenafter']=temp\n",
    "tweets['tokenafter'] = [' '.join(map(str, l)) for l in tweets['tokens']]"
   ]
  },
  {
   "cell_type": "markdown",
   "metadata": {},
   "source": [
    "## 3) N-grams & Topic Modeling"
   ]
  },
  {
   "cell_type": "code",
   "execution_count": 49,
   "metadata": {},
   "outputs": [
    {
     "data": {
      "image/png": "[encoded data removed]",
      "text/plain": [
       "<Figure size 1440x720 with 1 Axes>"
      ]
     },
     "metadata": {},
     "output_type": "display_data"
    }
   ],
   "source": [
    "#bi-grams\n",
    "def get_top_n_bigram(corpus, n=None):\n",
    "    vec = CountVectorizer(ngram_range=(2, 2), stop_words='english').fit(corpus)\n",
    "    bag_of_words = vec.transform(corpus)\n",
    "    sum_words = bag_of_words.sum(axis=0) \n",
    "    words_freq = [(word, sum_words[0, idx]) for word, idx in vec.vocabulary_.items()]\n",
    "    words_freq =sorted(words_freq, key = lambda x: x[1], reverse=True)\n",
    "    return words_freq[:n]\n",
    "common_words = get_top_n_bigram(tweets['tokenafter'], 20)\n",
    "\n",
    "df1 = pd.DataFrame(common_words, columns = ['Text' , 'count'])\n",
    "plt.figure(figsize=(20,10))\n",
    "plt.bar(df1['Text'],df1['count'])\n",
    "plt.xticks(rotation=45,fontsize=14)\n",
    "plt.yticks(fontsize=14)\n",
    "plt.ylabel('Count',fontsize=16)\n",
    "plt.show()\n"
   ]
  },
  {
   "cell_type": "code",
   "execution_count": 50,
   "metadata": {},
   "outputs": [
    {
     "data": {
      "image/png": "[encoded data removed]",
      "text/plain": [
       "<Figure size 864x360 with 1 Axes>"
      ]
     },
     "metadata": {},
     "output_type": "display_data"
    }
   ],
   "source": [
    "#tri-grams\n",
    "def get_top_n_trigram(corpus, n=None):\n",
    "    vec = CountVectorizer(ngram_range=(3, 3), stop_words='english').fit(corpus)\n",
    "    bag_of_words = vec.transform(corpus)\n",
    "    sum_words = bag_of_words.sum(axis=0) \n",
    "    words_freq = [(word, sum_words[0, idx]) for word, idx in vec.vocabulary_.items()]\n",
    "    words_freq =sorted(words_freq, key = lambda x: x[1], reverse=True)\n",
    "    return words_freq[:n]\n",
    "common_words = get_top_n_trigram(tweets['tokenafter'], 20)\n",
    "\n",
    "df2 = pd.DataFrame(common_words, columns = ['Text' , 'count'])\n",
    "plt.figure(figsize=(12,5))\n",
    "plt.bar(df2['Text'],df2['count'])\n",
    "plt.xticks(rotation=90)\n",
    "plt.show()"
   ]
  },
  {
   "cell_type": "code",
   "execution_count": 51,
   "metadata": {},
   "outputs": [
    {
     "name": "stdout",
     "output_type": "stream",
     "text": [
      "dict_items([(0, 865), (2, 212), (3, 95), (1, 155)])\n",
      "Topic 1:  shoot,man,polic\n",
      "Topic 2:  want,robberi,person\n",
      "Topic 3:  assault,sexual,murder\n",
      "Topic 4:  homicid,investig,year\n"
     ]
    }
   ],
   "source": [
    "reindexed_data = tweets['tokenafter']\n",
    "tfidf_vectorizer = TfidfVectorizer(stop_words='english', use_idf=True, smooth_idf=True)\n",
    "reindexed_data = reindexed_data.values\n",
    "document_term_matrix = tfidf_vectorizer.fit_transform(reindexed_data)\n",
    "n_topics = 4\n",
    "lsa_model = TruncatedSVD(n_components=n_topics)\n",
    "lsa_topic_matrix = lsa_model.fit_transform(document_term_matrix)\n",
    "\n",
    "\n",
    "def get_keys(topic_matrix):\n",
    "    '''\n",
    "    returns an integer list of predicted topic \n",
    "    categories for a given topic matrix\n",
    "    '''\n",
    "    keys = topic_matrix.argmax(axis=1).tolist()\n",
    "    return keys\n",
    "\n",
    "def keys_to_counts(keys):\n",
    "    '''\n",
    "    returns a tuple of topic categories and their \n",
    "    accompanying magnitudes for a given list of keys\n",
    "    '''\n",
    "    count_pairs = Counter(keys).items()\n",
    "    print(count_pairs)\n",
    "    categories = [pair[0] for pair in count_pairs]\n",
    "    counts = [pair[1] for pair in count_pairs]\n",
    "    return (categories, counts)\n",
    "    \n",
    "lsa_keys = get_keys(lsa_topic_matrix)\n",
    "lsa_categories, lsa_counts = keys_to_counts(lsa_keys)\n",
    "\n",
    "def get_top_n_words(n, keys, document_term_matrix, tfidf_vectorizer):\n",
    "    '''\n",
    "    returns a list of n_topic strings, where each string contains the n most common \n",
    "    words in a predicted category, in order\n",
    "    '''\n",
    "    top_word_indices = []\n",
    "    for topic in range(n_topics):\n",
    "        temp_vector_sum = 0\n",
    "        for i in range(len(keys)):\n",
    "            if keys[i] == topic:\n",
    "                temp_vector_sum += document_term_matrix[i]\n",
    "        temp_vector_sum = temp_vector_sum.toarray()\n",
    "        top_n_word_indices = np.flip(np.argsort(temp_vector_sum)[0][-n:],0)\n",
    "        top_word_indices.append(top_n_word_indices)   \n",
    "    top_words = []\n",
    "    for topic in top_word_indices:\n",
    "        topic_words = []\n",
    "        for index in topic:\n",
    "            temp_word_vector = np.zeros((1,document_term_matrix.shape[1]))\n",
    "            temp_word_vector[:,index] = 1\n",
    "            the_word = tfidf_vectorizer.inverse_transform(temp_word_vector)[0][0]\n",
    "            topic_words.append(the_word.encode('ascii').decode('utf-8'))\n",
    "        top_words.append(\",\".join(topic_words))         \n",
    "    return top_words\n",
    "    \n",
    "top_n_words_lsa = get_top_n_words(3, lsa_keys, document_term_matrix, tfidf_vectorizer)\n",
    "\n",
    "for i in range(len(top_n_words_lsa)):\n",
    "    print(\"Topic {}: \".format(i+1), top_n_words_lsa[i])\n"
   ]
  },
  {
   "cell_type": "code",
   "execution_count": 52,
   "metadata": {
    "scrolled": false
   },
   "outputs": [
    {
     "data": {
      "image/png": "[encoded data removed]",
      "text/plain": [
       "<Figure size 1152x576 with 1 Axes>"
      ]
     },
     "metadata": {},
     "output_type": "display_data"
    }
   ],
   "source": [
    "labels = ['Topic {}: \\n'.format(i) + top_n_words_lsa[i] for i in lsa_categories]\n",
    "fig, ax = plt.subplots(figsize=(16,8))\n",
    "ax.bar(lsa_categories, lsa_counts);\n",
    "ax.set_xticks(lsa_categories);\n",
    "ax.set_xticklabels(labels);\n",
    "# ax.set_ylabel('Number of review text');\n",
    "ax.set_title('Topic modeling');\n",
    "plt.show();"
   ]
  },
  {
   "cell_type": "markdown",
   "metadata": {},
   "source": [
    "## 4) Classification"
   ]
  },
  {
   "cell_type": "code",
   "execution_count": 53,
   "metadata": {},
   "outputs": [],
   "source": [
    "tweets['type']=np.NaN\n",
    "shooting = ['shoot','arm','shot']\n",
    "assault = ['assault','stab']\n",
    "buglar = ['burglar','burglari']\n",
    "crash = ['crash','drive','accident','car','accid']\n",
    "homicide = ['murder','homicide','homicid']\n",
    "theft = ['theft','steal']\n",
    "robbery = ['robberi', 'robber']\n",
    "sexualassault = ['sexual','sex'] \n",
    "for idx, row in tweets.iterrows():\n",
    "    for word in tweets.loc[idx,'tokens']:\n",
    "        if word in sexualassault:\n",
    "            tweets.loc[idx,'type'] = 'sex abuse'\n",
    "            break\n",
    "        elif word in buglar:\n",
    "            tweets.loc[idx,'type'] = 'burglary'\n",
    "            break\n",
    "        elif word in assault:\n",
    "            tweets.loc[idx,'type'] = 'assault'\n",
    "            break\n",
    "        elif word in crash:\n",
    "            tweets.loc[idx,'type'] = 'crash'\n",
    "            break\n",
    "        elif word in homicide:\n",
    "            tweets.loc[idx,'type'] = 'homicide'\n",
    "            break\n",
    "        elif word in theft:\n",
    "            tweets.loc[idx,'type'] = 'theft'\n",
    "            break\n",
    "#         elif word in murder:\n",
    "#             tweets.loc[idx,'type'] = 'murder'\n",
    "            break\n",
    "        elif word in robbery:\n",
    "            tweets.loc[idx,'type'] = 'robbery'\n",
    "            break\n",
    "        elif word in shooting:\n",
    "            tweets.loc[idx,'type'] = 'shooting'\n",
    "                        \n",
    "            "
   ]
  },
  {
   "cell_type": "code",
   "execution_count": 55,
   "metadata": {},
   "outputs": [
    {
     "name": "stdout",
     "output_type": "stream",
     "text": [
      "Total tweets:  1327\n",
      "Unable to classify:  102\n"
     ]
    }
   ],
   "source": [
    "print('Total tweets: ',tweets.shape[0])\n",
    "print('Unable to classify: ',tweets['type'].isnull().sum()) "
   ]
  },
  {
   "cell_type": "markdown",
   "metadata": {},
   "source": [
    "********************************************************************"
   ]
  },
  {
   "cell_type": "markdown",
   "metadata": {},
   "source": [
    "# II. Police Report"
   ]
  },
  {
   "cell_type": "code",
   "execution_count": 56,
   "metadata": {},
   "outputs": [
    {
     "data": {
      "text/html": [
       "<div>\n",
       "<style scoped>\n",
       "    .dataframe tbody tr th:only-of-type {\n",
       "        vertical-align: middle;\n",
       "    }\n",
       "\n",
       "    .dataframe tbody tr th {\n",
       "        vertical-align: top;\n",
       "    }\n",
       "\n",
       "    .dataframe thead th {\n",
       "        text-align: right;\n",
       "    }\n",
       "</style>\n",
       "<table border=\"1\" class=\"dataframe\">\n",
       "  <thead>\n",
       "    <tr style=\"text-align: right;\">\n",
       "      <th></th>\n",
       "      <th>location</th>\n",
       "      <th>START_DATE</th>\n",
       "      <th>OFFENSE</th>\n",
       "      <th>date</th>\n",
       "      <th>hour</th>\n",
       "    </tr>\n",
       "  </thead>\n",
       "  <tbody>\n",
       "    <tr>\n",
       "      <th>0</th>\n",
       "      <td>38.936972708940239,-77.024408596883461</td>\n",
       "      <td>2019-04-03T23:12:24.000</td>\n",
       "      <td>robbery</td>\n",
       "      <td>2019-04-03</td>\n",
       "      <td>23</td>\n",
       "    </tr>\n",
       "    <tr>\n",
       "      <th>1</th>\n",
       "      <td>38.905649312452539,-77.030565950322227</td>\n",
       "      <td>2019-04-03T23:00:45.000</td>\n",
       "      <td>theft</td>\n",
       "      <td>2019-04-03</td>\n",
       "      <td>23</td>\n",
       "    </tr>\n",
       "    <tr>\n",
       "      <th>2</th>\n",
       "      <td>38.904382904578725,-76.992681430060301</td>\n",
       "      <td>2019-04-03T23:00:06.000</td>\n",
       "      <td>theft</td>\n",
       "      <td>2019-04-03</td>\n",
       "      <td>23</td>\n",
       "    </tr>\n",
       "    <tr>\n",
       "      <th>3</th>\n",
       "      <td>38.92015633637488,-76.990315863805236</td>\n",
       "      <td>2019-04-03T22:54:16.000</td>\n",
       "      <td>theft</td>\n",
       "      <td>2019-04-03</td>\n",
       "      <td>22</td>\n",
       "    </tr>\n",
       "    <tr>\n",
       "      <th>4</th>\n",
       "      <td>38.906455435552409,-77.044897140495749</td>\n",
       "      <td>2019-04-03T22:50:10.000</td>\n",
       "      <td>sex abuse</td>\n",
       "      <td>2019-04-03</td>\n",
       "      <td>22</td>\n",
       "    </tr>\n",
       "  </tbody>\n",
       "</table>\n",
       "</div>"
      ],
      "text/plain": [
       "                                 location               START_DATE    OFFENSE  \\\n",
       "0  38.936972708940239,-77.024408596883461  2019-04-03T23:12:24.000    robbery   \n",
       "1  38.905649312452539,-77.030565950322227  2019-04-03T23:00:45.000      theft   \n",
       "2  38.904382904578725,-76.992681430060301  2019-04-03T23:00:06.000      theft   \n",
       "3   38.92015633637488,-76.990315863805236  2019-04-03T22:54:16.000      theft   \n",
       "4  38.906455435552409,-77.044897140495749  2019-04-03T22:50:10.000  sex abuse   \n",
       "\n",
       "         date hour  \n",
       "0  2019-04-03   23  \n",
       "1  2019-04-03   23  \n",
       "2  2019-04-03   23  \n",
       "3  2019-04-03   22  \n",
       "4  2019-04-03   22  "
      ]
     },
     "execution_count": 56,
     "metadata": {},
     "output_type": "execute_result"
    }
   ],
   "source": [
    "policerep = pd.read_csv('C:/Users/tinan/Desktop/NLP/tweets0423/tweets/dc-crime.csv')\n",
    "\n",
    "police = pd.DataFrame()\n",
    "police =policerep[['location','START_DATE','OFFENSE']].copy()\n",
    "police['date'] = pd.to_datetime(police['START_DATE']).dt.date #extract the dates \n",
    "police['hour'] = police['START_DATE'].apply(lambda x: x[11:13]) #extract the hours \n",
    "police['date']=police['date'].apply(lambda x: str(x))\n",
    "police = police.replace('assault w/dangerous weapon','assault')\n",
    "police['OFFENSE']=police['OFFENSE'].replace('motor vehicle theft','theft')\n",
    "police['OFFENSE']=police['OFFENSE'].replace('theft f/auto','theft')\n",
    "police['OFFENSE']=police['OFFENSE'].replace('theft/other','theft')\n",
    "police.head()"
   ]
  },
  {
   "cell_type": "code",
   "execution_count": 57,
   "metadata": {},
   "outputs": [
    {
     "data": {
      "image/png": "[encoded data removed]",
      "text/plain": [
       "<Figure size 1080x576 with 1 Axes>"
      ]
     },
     "metadata": {},
     "output_type": "display_data"
    }
   ],
   "source": [
    "pgroup = pd.DataFrame(police.groupby(['OFFENSE'])['hour'].count()).reset_index().sort_values('hour',ascending=False)\n",
    "plt.figure(figsize=(15,8))\n",
    "plt.bar(pgroup.OFFENSE,pgroup.hour)\n",
    "plt.xticks(fontsize=14)\n",
    "plt.yticks(fontsize=14)\n",
    "plt.xlabel('Crime type',fontsize=16)\n",
    "plt.ylabel('Count',fontsize=16)\n",
    "plt.show()"
   ]
  },
  {
   "cell_type": "markdown",
   "metadata": {},
   "source": [
    "# III. Evaluation"
   ]
  },
  {
   "cell_type": "markdown",
   "metadata": {},
   "source": [
    "## a. Matching by date"
   ]
  },
  {
   "cell_type": "code",
   "execution_count": 58,
   "metadata": {
    "scrolled": true
   },
   "outputs": [
    {
     "data": {
      "text/html": [
       "<div>\n",
       "<style scoped>\n",
       "    .dataframe tbody tr th:only-of-type {\n",
       "        vertical-align: middle;\n",
       "    }\n",
       "\n",
       "    .dataframe tbody tr th {\n",
       "        vertical-align: top;\n",
       "    }\n",
       "\n",
       "    .dataframe thead th {\n",
       "        text-align: right;\n",
       "    }\n",
       "</style>\n",
       "<table border=\"1\" class=\"dataframe\">\n",
       "  <thead>\n",
       "    <tr style=\"text-align: right;\">\n",
       "      <th>type</th>\n",
       "      <th>datereported</th>\n",
       "      <th>assault</th>\n",
       "      <th>burglary</th>\n",
       "      <th>crash</th>\n",
       "      <th>homicide</th>\n",
       "      <th>robbery</th>\n",
       "      <th>sex abuse</th>\n",
       "      <th>shooting</th>\n",
       "      <th>theft</th>\n",
       "    </tr>\n",
       "  </thead>\n",
       "  <tbody>\n",
       "    <tr>\n",
       "      <th>0</th>\n",
       "      <td>2015-08-05</td>\n",
       "      <td>0.0</td>\n",
       "      <td>0.0</td>\n",
       "      <td>0.0</td>\n",
       "      <td>0.0</td>\n",
       "      <td>0.0</td>\n",
       "      <td>0.0</td>\n",
       "      <td>1.0</td>\n",
       "      <td>0.0</td>\n",
       "    </tr>\n",
       "    <tr>\n",
       "      <th>1</th>\n",
       "      <td>2015-08-06</td>\n",
       "      <td>0.0</td>\n",
       "      <td>0.0</td>\n",
       "      <td>0.0</td>\n",
       "      <td>1.0</td>\n",
       "      <td>0.0</td>\n",
       "      <td>0.0</td>\n",
       "      <td>1.0</td>\n",
       "      <td>0.0</td>\n",
       "    </tr>\n",
       "    <tr>\n",
       "      <th>2</th>\n",
       "      <td>2015-08-07</td>\n",
       "      <td>1.0</td>\n",
       "      <td>0.0</td>\n",
       "      <td>0.0</td>\n",
       "      <td>1.0</td>\n",
       "      <td>0.0</td>\n",
       "      <td>0.0</td>\n",
       "      <td>0.0</td>\n",
       "      <td>0.0</td>\n",
       "    </tr>\n",
       "  </tbody>\n",
       "</table>\n",
       "</div>"
      ],
      "text/plain": [
       "type datereported  assault  burglary  crash  homicide  robbery  sex abuse  \\\n",
       "0      2015-08-05      0.0       0.0    0.0       0.0      0.0        0.0   \n",
       "1      2015-08-06      0.0       0.0    0.0       1.0      0.0        0.0   \n",
       "2      2015-08-07      1.0       0.0    0.0       1.0      0.0        0.0   \n",
       "\n",
       "type  shooting  theft  \n",
       "0          1.0    0.0  \n",
       "1          1.0    0.0  \n",
       "2          0.0    0.0  "
      ]
     },
     "execution_count": 58,
     "metadata": {},
     "output_type": "execute_result"
    }
   ],
   "source": [
    "#count how many times a type of crime happen on a given date - Twitter data\n",
    "#ONLY USE 2019 DATA\n",
    "tweets['timereported'] = pd.to_datetime(tweets['date']).dt.date\n",
    "# tweets['timereported'] = pd.to_datetime(tweets['created_at'])\n",
    "group1 = tweets.groupby(['timereported','type'])['type'].count()\n",
    "def reshape(group):\n",
    "    df = pd.DataFrame(group).unstack().reset_index().fillna(0)\n",
    "    df.columns = df.columns.droplevel()\n",
    "    df = df.rename(columns={'':'datereported'})\n",
    "    df['datereported'] = pd.to_datetime(df['datereported'])\n",
    "\n",
    "    #look at data in 2019\n",
    "\n",
    "#     for idx, row in tweets.iterrows():\n",
    "#         df = df[df['datereported'].dt.year == 2019]\n",
    "    return df\n",
    "\n",
    "tweetdata = reshape(group1)\n",
    "tweetdata.head(3)"
   ]
  },
  {
   "cell_type": "code",
   "execution_count": 59,
   "metadata": {},
   "outputs": [],
   "source": [
    "#count how many time a type of crime reported on a given date - Police data\n",
    "#ONLY USE 2019 DATA\n",
    "group2 = police.groupby(['date','OFFENSE'])['OFFENSE'].count()\n",
    "policedata = reshape(group2)"
   ]
  },
  {
   "cell_type": "code",
   "execution_count": 60,
   "metadata": {},
   "outputs": [
    {
     "data": {
      "text/html": [
       "<div>\n",
       "<style scoped>\n",
       "    .dataframe tbody tr th:only-of-type {\n",
       "        vertical-align: middle;\n",
       "    }\n",
       "\n",
       "    .dataframe tbody tr th {\n",
       "        vertical-align: top;\n",
       "    }\n",
       "\n",
       "    .dataframe thead th {\n",
       "        text-align: right;\n",
       "    }\n",
       "</style>\n",
       "<table border=\"1\" class=\"dataframe\">\n",
       "  <thead>\n",
       "    <tr style=\"text-align: right;\">\n",
       "      <th></th>\n",
       "      <th></th>\n",
       "      <th>assault</th>\n",
       "      <th>burglary</th>\n",
       "      <th>homicide</th>\n",
       "      <th>robbery</th>\n",
       "      <th>sexabuse</th>\n",
       "      <th>theft</th>\n",
       "      <th>crash</th>\n",
       "      <th>shooting</th>\n",
       "    </tr>\n",
       "  </thead>\n",
       "  <tbody>\n",
       "    <tr>\n",
       "      <th>0</th>\n",
       "      <td>PoliceData</td>\n",
       "      <td>7138.0</td>\n",
       "      <td>6560.0</td>\n",
       "      <td>513.0</td>\n",
       "      <td>9070.0</td>\n",
       "      <td>1067.0</td>\n",
       "      <td>103215.0</td>\n",
       "      <td>0.0</td>\n",
       "      <td>0.0</td>\n",
       "    </tr>\n",
       "    <tr>\n",
       "      <th>1</th>\n",
       "      <td>TwitterData</td>\n",
       "      <td>128.0</td>\n",
       "      <td>28.0</td>\n",
       "      <td>259.0</td>\n",
       "      <td>112.0</td>\n",
       "      <td>133.0</td>\n",
       "      <td>24.0</td>\n",
       "      <td>105.0</td>\n",
       "      <td>436.0</td>\n",
       "    </tr>\n",
       "  </tbody>\n",
       "</table>\n",
       "</div>"
      ],
      "text/plain": [
       "                assault  burglary  homicide  robbery  sexabuse     theft  \\\n",
       "0   PoliceData   7138.0    6560.0     513.0   9070.0    1067.0  103215.0   \n",
       "1  TwitterData    128.0      28.0     259.0    112.0     133.0      24.0   \n",
       "\n",
       "   crash  shooting  \n",
       "0    0.0       0.0  \n",
       "1  105.0     436.0  "
      ]
     },
     "execution_count": 60,
     "metadata": {},
     "output_type": "execute_result"
    }
   ],
   "source": [
    "#summary of how many crimes reported in both datasets. (might need to filter out the dates so both of them are in the same time frame)\n",
    "\n",
    "results = pd.DataFrame({'':['PoliceData','TwitterData'],'assault':[policedata.assault.sum(),tweetdata.assault.sum()],'burglary':\n",
    "                       [policedata.burglary.sum(),tweetdata.burglary.sum()],'homicide':[policedata.homicide.sum(),tweetdata.homicide.sum()],\n",
    "                       'robbery':[policedata.robbery.sum(),tweetdata.robbery.sum()],'sexabuse':[policedata['sex abuse'].sum(),tweetdata['sex abuse'].sum()],\n",
    "                       'theft':[policedata.theft.sum(),tweetdata.theft.sum()],'crash':[0,tweetdata.crash.sum()],'shooting':[0,tweetdata.shooting.sum()]})\n",
    "results.head()\n"
   ]
  },
  {
   "cell_type": "code",
   "execution_count": 61,
   "metadata": {
    "scrolled": true
   },
   "outputs": [
    {
     "data": {
      "text/plain": [
       "0    127563.0\n",
       "1      1225.0\n",
       "dtype: float64"
      ]
     },
     "execution_count": 61,
     "metadata": {},
     "output_type": "execute_result"
    }
   ],
   "source": [
    "results.sum(axis=1)"
   ]
  },
  {
   "cell_type": "markdown",
   "metadata": {},
   "source": [
    "<h3> b/ Matching by time"
   ]
  },
  {
   "cell_type": "code",
   "execution_count": 62,
   "metadata": {},
   "outputs": [
    {
     "data": {
      "text/html": [
       "<div>\n",
       "<style scoped>\n",
       "    .dataframe tbody tr th:only-of-type {\n",
       "        vertical-align: middle;\n",
       "    }\n",
       "\n",
       "    .dataframe tbody tr th {\n",
       "        vertical-align: top;\n",
       "    }\n",
       "\n",
       "    .dataframe thead th {\n",
       "        text-align: right;\n",
       "    }\n",
       "</style>\n",
       "<table border=\"1\" class=\"dataframe\">\n",
       "  <thead>\n",
       "    <tr style=\"text-align: right;\">\n",
       "      <th></th>\n",
       "      <th>date</th>\n",
       "      <th>hour</th>\n",
       "      <th>tokenafter</th>\n",
       "      <th>type</th>\n",
       "      <th>timereported</th>\n",
       "      <th>rangetime</th>\n",
       "      <th>id</th>\n",
       "    </tr>\n",
       "  </thead>\n",
       "  <tbody>\n",
       "    <tr>\n",
       "      <th>1322</th>\n",
       "      <td>2019-04-02</td>\n",
       "      <td>23</td>\n",
       "      <td>man charg murder assault year old syndrom inte...</td>\n",
       "      <td>homicide</td>\n",
       "      <td>2019-04-02</td>\n",
       "      <td>[22, 24]</td>\n",
       "      <td>ID-1322</td>\n",
       "    </tr>\n",
       "    <tr>\n",
       "      <th>1323</th>\n",
       "      <td>2019-04-02</td>\n",
       "      <td>02</td>\n",
       "      <td>sex assault alleg magician david blain investi...</td>\n",
       "      <td>sex abuse</td>\n",
       "      <td>2019-04-02</td>\n",
       "      <td>[1, 3]</td>\n",
       "      <td>ID-1323</td>\n",
       "    </tr>\n",
       "    <tr>\n",
       "      <th>1324</th>\n",
       "      <td>2019-04-03</td>\n",
       "      <td>12</td>\n",
       "      <td>interview former gang member yesterday serv se...</td>\n",
       "      <td>homicide</td>\n",
       "      <td>2019-04-03</td>\n",
       "      <td>[11, 13]</td>\n",
       "      <td>ID-1324</td>\n",
       "    </tr>\n",
       "    <tr>\n",
       "      <th>1325</th>\n",
       "      <td>2019-04-03</td>\n",
       "      <td>00</td>\n",
       "      <td>cash reward offer inform murder ashanti carmon...</td>\n",
       "      <td>homicide</td>\n",
       "      <td>2019-04-03</td>\n",
       "      <td>[-1, 1]</td>\n",
       "      <td>ID-1325</td>\n",
       "    </tr>\n",
       "    <tr>\n",
       "      <th>1326</th>\n",
       "      <td>2019-04-03</td>\n",
       "      <td>02</td>\n",
       "      <td>polic say arrest man suspect fatal shoot rappe...</td>\n",
       "      <td>shooting</td>\n",
       "      <td>2019-04-03</td>\n",
       "      <td>[1, 3]</td>\n",
       "      <td>ID-1326</td>\n",
       "    </tr>\n",
       "  </tbody>\n",
       "</table>\n",
       "</div>"
      ],
      "text/plain": [
       "            date hour                                         tokenafter  \\\n",
       "1322  2019-04-02   23  man charg murder assault year old syndrom inte...   \n",
       "1323  2019-04-02   02  sex assault alleg magician david blain investi...   \n",
       "1324  2019-04-03   12  interview former gang member yesterday serv se...   \n",
       "1325  2019-04-03   00  cash reward offer inform murder ashanti carmon...   \n",
       "1326  2019-04-03   02  polic say arrest man suspect fatal shoot rappe...   \n",
       "\n",
       "           type timereported rangetime       id  \n",
       "1322   homicide   2019-04-02  [22, 24]  ID-1322  \n",
       "1323  sex abuse   2019-04-02    [1, 3]  ID-1323  \n",
       "1324   homicide   2019-04-03  [11, 13]  ID-1324  \n",
       "1325   homicide   2019-04-03   [-1, 1]  ID-1325  \n",
       "1326   shooting   2019-04-03    [1, 3]  ID-1326  "
      ]
     },
     "execution_count": 62,
     "metadata": {},
     "output_type": "execute_result"
    }
   ],
   "source": [
    "#create a range of time when the tweet is posted....+/- 1 hours. If tweet is posted at 3am, the range would be (2,4).\n",
    "tweets['rangetime']=tweets['hour'].apply(lambda x: [int(x)-1,int(x)+1])\n",
    "\n",
    "tweets.sort_values('date',inplace=True)\n",
    "tweets.reset_index(inplace=True)\n",
    "tweets['id']= tweets.index \n",
    "tweets.drop(['created_at','text','screen_name','time','tokens','cleaned','index'],axis=1,inplace=True)\n",
    "tweets['id']=tweets['id'].apply(lambda x:\"ID\"+\"-\"+str(x)) #assign a unique id for each tweet\n",
    "tweets.tail()"
   ]
  },
  {
   "cell_type": "code",
   "execution_count": 63,
   "metadata": {},
   "outputs": [],
   "source": [
    "df_=pd.DataFrame()\n",
    "index=[]\n",
    "index1=[]\n",
    "newday=[]\n",
    "typetweet=[]\n",
    "typepol=[]\n",
    "phours=[]\n",
    "thours=[]\n",
    "trange=[]\n",
    "idno=[]\n",
    "for row in tweets.itertuples():\n",
    "    for row1 in police.itertuples():\n",
    "        #if the date in both datasets match and the hour reported in police db is within the range of tweet, and the crime\n",
    "        #type match then output all these columns to a new dataframe\n",
    "        if (row1.date==row.date) and (int(row1.hour) >= int(row.rangetime[0])) and (int(row1.hour) <= int(row.rangetime[1])) and (row1.OFFENSE==row.type):\n",
    "            idno.append(row.id)\n",
    "            newday.append(row.date)\n",
    "            typetweet.append(row.type)\n",
    "            typepol.append(row1.OFFENSE)\n",
    "            phours.append(row1.hour)\n",
    "            thours.append(row.hour)\n",
    "            trange.append(row.rangetime)\n",
    "            df_ = pd.DataFrame(list(zip(idno,newday,typetweet,typepol,phours,trange,thours)),columns=['ID','timereported','tw_type',\n",
    "                                                                                                'po_type','pl_hr','range','tw_hr'])\n",
    "          \n",
    "        else:\n",
    "            continue"
   ]
  },
  {
   "cell_type": "code",
   "execution_count": 65,
   "metadata": {},
   "outputs": [
    {
     "name": "stdout",
     "output_type": "stream",
     "text": [
      "Numbers of tweet that matched:\n",
      "195\n"
     ]
    },
    {
     "data": {
      "text/html": [
       "<div>\n",
       "<style scoped>\n",
       "    .dataframe tbody tr th:only-of-type {\n",
       "        vertical-align: middle;\n",
       "    }\n",
       "\n",
       "    .dataframe tbody tr th {\n",
       "        vertical-align: top;\n",
       "    }\n",
       "\n",
       "    .dataframe thead th {\n",
       "        text-align: right;\n",
       "    }\n",
       "</style>\n",
       "<table border=\"1\" class=\"dataframe\">\n",
       "  <thead>\n",
       "    <tr style=\"text-align: right;\">\n",
       "      <th></th>\n",
       "      <th>ID</th>\n",
       "      <th>type</th>\n",
       "      <th>matched</th>\n",
       "    </tr>\n",
       "  </thead>\n",
       "  <tbody>\n",
       "    <tr>\n",
       "      <th>0</th>\n",
       "      <td>ID-101</td>\n",
       "      <td>robbery</td>\n",
       "      <td>1</td>\n",
       "    </tr>\n",
       "    <tr>\n",
       "      <th>1</th>\n",
       "      <td>ID-1039</td>\n",
       "      <td>robbery</td>\n",
       "      <td>2</td>\n",
       "    </tr>\n",
       "    <tr>\n",
       "      <th>2</th>\n",
       "      <td>ID-1042</td>\n",
       "      <td>theft</td>\n",
       "      <td>15</td>\n",
       "    </tr>\n",
       "    <tr>\n",
       "      <th>3</th>\n",
       "      <td>ID-1054</td>\n",
       "      <td>sex abuse</td>\n",
       "      <td>1</td>\n",
       "    </tr>\n",
       "    <tr>\n",
       "      <th>4</th>\n",
       "      <td>ID-1065</td>\n",
       "      <td>homicide</td>\n",
       "      <td>1</td>\n",
       "    </tr>\n",
       "    <tr>\n",
       "      <th>5</th>\n",
       "      <td>ID-1073</td>\n",
       "      <td>robbery</td>\n",
       "      <td>1</td>\n",
       "    </tr>\n",
       "    <tr>\n",
       "      <th>6</th>\n",
       "      <td>ID-109</td>\n",
       "      <td>robbery</td>\n",
       "      <td>2</td>\n",
       "    </tr>\n",
       "    <tr>\n",
       "      <th>7</th>\n",
       "      <td>ID-1096</td>\n",
       "      <td>theft</td>\n",
       "      <td>5</td>\n",
       "    </tr>\n",
       "    <tr>\n",
       "      <th>8</th>\n",
       "      <td>ID-1097</td>\n",
       "      <td>theft</td>\n",
       "      <td>12</td>\n",
       "    </tr>\n",
       "    <tr>\n",
       "      <th>9</th>\n",
       "      <td>ID-110</td>\n",
       "      <td>robbery</td>\n",
       "      <td>1</td>\n",
       "    </tr>\n",
       "  </tbody>\n",
       "</table>\n",
       "</div>"
      ],
      "text/plain": [
       "        ID       type  matched\n",
       "0   ID-101    robbery        1\n",
       "1  ID-1039    robbery        2\n",
       "2  ID-1042      theft       15\n",
       "3  ID-1054  sex abuse        1\n",
       "4  ID-1065   homicide        1\n",
       "5  ID-1073    robbery        1\n",
       "6   ID-109    robbery        2\n",
       "7  ID-1096      theft        5\n",
       "8  ID-1097      theft       12\n",
       "9   ID-110    robbery        1"
      ]
     },
     "execution_count": 65,
     "metadata": {},
     "output_type": "execute_result"
    }
   ],
   "source": [
    "#interpret the table: for the tweet ID-101, there is one match with police db\n",
    "#ID-1039, there are 2 possible matches since the time reported for these 2 events fall within the time the tweet is posted. We count this as one match\n",
    "hr = pd.DataFrame(df_.groupby(['ID','tw_type'])['tw_hr'].count()).reset_index()\n",
    "hr.columns = ['ID','type','matched']\n",
    "print(\"Numbers of tweet that matched:\") \n",
    "print(hr.shape[0])\n",
    "hr.head(10)"
   ]
  },
  {
   "cell_type": "code",
   "execution_count": 66,
   "metadata": {},
   "outputs": [
    {
     "data": {
      "image/png": "[encoded data removed]",
      "text/plain": [
       "<Figure size 1080x720 with 1 Axes>"
      ]
     },
     "metadata": {},
     "output_type": "display_data"
    }
   ],
   "source": [
    "#matched tweets distribution\n",
    "hrg = pd.DataFrame(hr.groupby('type')['matched'].count()).sort_values('matched').reset_index()\n",
    "\n",
    "fig, ax = plt.subplots(figsize=(15,10))\n",
    "ax.barh(hrg['type'], hrg['matched'], \n",
    "        color='green', ecolor='black')\n",
    "ax.set_xlabel('Matched',fontsize=16)\n",
    "for i, v in enumerate(hrg['matched']):\n",
    "    ax.text(v + 1, i, str(v), color='black',fontsize=16)\n",
    "ax.tick_params(axis='both', which='major', labelsize=14)\n",
    "plt.show()\n",
    "# plt.savefig('matched.png')"
   ]
  }
 ],
 "metadata": {
  "kernelspec": {
   "display_name": "Python 3",
   "language": "python",
   "name": "python3"
  },
  "language_info": {
   "codemirror_mode": {
    "name": "ipython",
    "version": 3
   },
   "file_extension": ".py",
   "mimetype": "text/x-python",
   "name": "python",
   "nbconvert_exporter": "python",
   "pygments_lexer": "ipython3",
   "version": "3.6.5"
  }
 },
 "nbformat": 4,
 "nbformat_minor": 2
}
